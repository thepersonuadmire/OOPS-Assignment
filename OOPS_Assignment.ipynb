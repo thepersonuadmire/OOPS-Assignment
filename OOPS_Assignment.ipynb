{
  "nbformat": 4,
  "nbformat_minor": 0,
  "metadata": {
    "colab": {
      "provenance": [],
      "toc_visible": true,
      "authorship_tag": "ABX9TyO39tHYE+10CWW7Wa1yIW+W",
      "include_colab_link": true
    },
    "kernelspec": {
      "name": "python3",
      "display_name": "Python 3"
    },
    "language_info": {
      "name": "python"
    }
  },
  "cells": [
    {
      "cell_type": "markdown",
      "metadata": {
        "id": "view-in-github",
        "colab_type": "text"
      },
      "source": [
        "<a href=\"https://colab.research.google.com/github/thepersonuadmire/OOPS-Assignment/blob/main/OOPS_Assignment.ipynb\" target=\"_parent\"><img src=\"https://colab.research.google.com/assets/colab-badge.svg\" alt=\"Open In Colab\"/></a>"
      ]
    },
    {
      "cell_type": "markdown",
      "source": [
        "1. What are the five key concepts of Object-Oriented Programming (OOP)?"
      ],
      "metadata": {
        "id": "QWKuq8GM1P0i"
      }
    },
    {
      "cell_type": "markdown",
      "source": [
        "Encapsulation: Packaging data and methods into one unit, that is, a class, and limiting access to only some components.\n",
        "\n",
        "Inheritance: It allows one class (child) to inherit attributes and methods of another class (parent).\n",
        "\n",
        "Polymorphism: Object can take many forms. Example: method overriding and operator overloading.\n",
        "\n",
        "Abstraction: Hiding the implementation details and viewing only the essence of things.\n",
        "\n",
        "Message Passing: Objects talk to each other using methods."
      ],
      "metadata": {
        "id": "n-wP1Gi41SgN"
      }
    },
    {
      "cell_type": "markdown",
      "source": [
        "2. Write a Python class for a 'Car' with attributes for 'make', 'model', and 'year'. Include a method to display the car's information."
      ],
      "metadata": {
        "id": "PnvYFUDJ1zSs"
      }
    },
    {
      "cell_type": "code",
      "source": [
        "class Car:\n",
        "    def __init__(self, make, model, year):\n",
        "        self.make = make\n",
        "        self.model = model\n",
        "        self.year = year\n",
        "\n",
        "    def display_info(self):\n",
        "        print(f\"Car Make: {self.make}, Model: {self.model}, Year: {self.year}\")\n",
        "\n",
        "# Example usage:\n",
        "car = Car(\"Toyota\", \"Corolla\", 2021)\n",
        "car.display_info()\n"
      ],
      "metadata": {
        "id": "Lvtp0zjp2ENR"
      },
      "execution_count": null,
      "outputs": []
    },
    {
      "cell_type": "markdown",
      "source": [
        "3. Explain the difference between instance methods and class methods. Provide an example of each."
      ],
      "metadata": {
        "id": "sCEsyarx2GH3"
      }
    },
    {
      "cell_type": "markdown",
      "source": [
        "Instance Methods: Operate on instance variables and require an instance of the class.\n",
        "\n",
        "Class Methods: These methods are applied to the class itself, using the cls parameter. They are marked with the @classmethod decorator."
      ],
      "metadata": {
        "id": "mtxT9y1I2Kun"
      }
    },
    {
      "cell_type": "code",
      "source": [
        "class Example:\n",
        "    def instance_method(self):\n",
        "        return \"Instance Method Called\"\n",
        "\n",
        "    @classmethod\n",
        "    def class_method(cls):\n",
        "        return \"Class Method Called\"\n",
        "\n",
        "obj = Example()\n",
        "print(obj.instance_method())  # Instance Method\n",
        "print(Example.class_method())  # Class Method\n"
      ],
      "metadata": {
        "id": "CJB-fE1N2XoI"
      },
      "execution_count": null,
      "outputs": []
    },
    {
      "cell_type": "markdown",
      "source": [
        "4. How does Python implement method overloading? Give an example."
      ],
      "metadata": {
        "id": "Nj9SXzA_2a7O"
      }
    },
    {
      "cell_type": "markdown",
      "source": [
        "Python does not support traditional method overloading. Instead, it uses default arguments or *args/* *kwargs* to mimic overloading."
      ],
      "metadata": {
        "id": "tWWTkUth2gej"
      }
    },
    {
      "cell_type": "code",
      "source": [
        "class MathOperations:\n",
        "    def add(self, a, b=0):\n",
        "        return a + b\n",
        "\n",
        "obj = MathOperations()\n",
        "print(obj.add(5))        # Calls add(a)\n",
        "print(obj.add(5, 10))    # Calls add(a, b)\n"
      ],
      "metadata": {
        "id": "JD6PjGQS2oBX"
      },
      "execution_count": null,
      "outputs": []
    },
    {
      "cell_type": "markdown",
      "source": [
        "5. What are the three types of access modifiers in Python? How are they denoted?"
      ],
      "metadata": {
        "id": "F52xs4pn2pmP"
      }
    },
    {
      "cell_type": "markdown",
      "source": [
        "Public: Accessible from anywhere. Default for attributes/methods.\n",
        "\n",
        "Protected: Denoted by a single underscore _attribute. Accessible within the class and its subclasses.\n",
        "\n",
        "Private: Identified with double underscore __attribute. It can be accessed only within the class."
      ],
      "metadata": {
        "id": "lgXqexyN221A"
      }
    },
    {
      "cell_type": "markdown",
      "source": [
        "\n",
        "6. Describe the five types of inheritance in Python. Provide a simple example of multiple inheritance."
      ],
      "metadata": {
        "id": "JdEI_5Jm2-P6"
      }
    },
    {
      "cell_type": "markdown",
      "source": [
        "Single Inheritance: One child class inherits from one parent.\n",
        "\n",
        "Multiple Inheritance: A class inherits from multiple parents.\n",
        "\n",
        "Multilevel Inheritance: A class inherits from a child class, forming a chain.\n",
        "\n",
        "Hierarchical Inheritance: Multiple child classes inherit from a single parent.\n",
        "\n",
        "Hybrid Inheritance: A mix of two or more types of inheritance."
      ],
      "metadata": {
        "id": "MPX01lRO3Wy6"
      }
    },
    {
      "cell_type": "code",
      "source": [
        "class Parent1:\n",
        "    def method1(self):\n",
        "        print(\"Method from Parent1\")\n",
        "\n",
        "class Parent2:\n",
        "    def method2(self):\n",
        "        print(\"Method from Parent2\")\n",
        "\n",
        "class Child(Parent1, Parent2):\n",
        "    pass\n",
        "\n",
        "obj = Child()\n",
        "obj.method1()\n",
        "obj.method2()\n"
      ],
      "metadata": {
        "id": "JzRAOmN-3ez3"
      },
      "execution_count": null,
      "outputs": []
    },
    {
      "cell_type": "markdown",
      "source": [
        "7. What is the Method Resolution Order (MRO) in Python? How can you retrieve it programmatically?"
      ],
      "metadata": {
        "id": "2cAhL9eK3jYJ"
      }
    },
    {
      "cell_type": "markdown",
      "source": [
        "MRO defines the order in which Python looks for methods in a class hierarchy.\n",
        "\n",
        "You can retrieve it using the __mro__ attribute or mro() method."
      ],
      "metadata": {
        "id": "wC5UPZQc3n6k"
      }
    },
    {
      "cell_type": "code",
      "source": [
        "class A: pass\n",
        "class B(A): pass\n",
        "print(B.__mro__)  # MRO sequence\n"
      ],
      "metadata": {
        "id": "jclT_KBh3vSK"
      },
      "execution_count": null,
      "outputs": []
    },
    {
      "cell_type": "markdown",
      "source": [
        "\n",
        "8. Create an abstract base class Shape with an abstract method area(). Then create two subclasses Circle and Rectangle that implement the area() method."
      ],
      "metadata": {
        "id": "p0-Pm--m3w8i"
      }
    },
    {
      "cell_type": "code",
      "source": [
        "from abc import ABC, abstractmethod\n",
        "import math\n",
        "\n",
        "class Shape(ABC):\n",
        "    @abstractmethod\n",
        "    def area(self):\n",
        "        pass\n",
        "\n",
        "class Circle(Shape):\n",
        "    def __init__(self, radius):\n",
        "        self.radius = radius\n",
        "\n",
        "    def area(self):\n",
        "        return math.pi * self.radius ** 2\n",
        "\n",
        "class Rectangle(Shape):\n",
        "    def __init__(self, width, height):\n",
        "        self.width = width\n",
        "        self.height = height\n",
        "\n",
        "    def area(self):\n",
        "        return self.width * self.height\n"
      ],
      "metadata": {
        "id": "hv6n1bxD364y"
      },
      "execution_count": null,
      "outputs": []
    },
    {
      "cell_type": "markdown",
      "source": [
        "\n",
        "9. Demonstrate polymorphism by creating a function that can work with different shape objects to calculate and print their areas."
      ],
      "metadata": {
        "id": "jdvqjrck38GE"
      }
    },
    {
      "cell_type": "code",
      "source": [
        "def print_area(shape):\n",
        "    print(f\"The area is: {shape.area()}\")\n",
        "\n",
        "# Example usage:\n",
        "circle = Circle(5)  # Circle from previous example\n",
        "rectangle = Rectangle(4, 6)  # Rectangle from previous example\n",
        "\n",
        "print_area(circle)       # Polymorphic behavior\n",
        "print_area(rectangle)    # Polymorphic behavior\n"
      ],
      "metadata": {
        "id": "oJM8mL5v4DpU"
      },
      "execution_count": null,
      "outputs": []
    },
    {
      "cell_type": "markdown",
      "source": [
        "10. Implement encapsulation in a BankAccount class with private attributes for balance and account_number. Include methods for deposit, withdrawal, and balance inquiry."
      ],
      "metadata": {
        "id": "M0BNSmvj4FvU"
      }
    },
    {
      "cell_type": "code",
      "source": [
        "class BankAccount:\n",
        "    def __init__(self, account_number, balance=0):\n",
        "        self.__account_number = account_number\n",
        "        self.__balance = balance\n",
        "\n",
        "    def deposit(self, amount):\n",
        "        if amount > 0:\n",
        "            self.__balance += amount\n",
        "            print(f\"Deposited: {amount}\")\n",
        "\n",
        "    def withdraw(self, amount):\n",
        "        if amount <= self.__balance:\n",
        "            self.__balance -= amount\n",
        "            print(f\"Withdrew: {amount}\")\n",
        "        else:\n",
        "            print(\"Insufficient balance\")\n",
        "\n",
        "    def get_balance(self):\n",
        "        return self.__balance\n"
      ],
      "metadata": {
        "id": "AvSaEzz84NO0"
      },
      "execution_count": null,
      "outputs": []
    },
    {
      "cell_type": "markdown",
      "source": [
        "11. Write a class that overrides the __str__ and __add__ magic methods. What will these methods allow you to do?\n"
      ],
      "metadata": {
        "id": "CAHrBavU4Qu5"
      }
    },
    {
      "cell_type": "markdown",
      "source": [
        "__str__: Used to define a string representation of an object.\n",
        "\n",
        "__add__: Used to define the addition behavior of objects."
      ],
      "metadata": {
        "id": "hTZ3Im2F4-fS"
      }
    },
    {
      "cell_type": "code",
      "source": [
        "class CustomNumber:\n",
        "    def __init__(self, value):\n",
        "        self.value = value\n",
        "\n",
        "    def __str__(self):\n",
        "        return f\"CustomNumber: {self.value}\"\n",
        "\n",
        "    def __add__(self, other):\n",
        "        return CustomNumber(self.value + other.value)\n",
        "\n",
        "# Example usage:\n",
        "num1 = CustomNumber(10)\n",
        "num2 = CustomNumber(20)\n",
        "num3 = num1 + num2\n",
        "\n",
        "print(num1)  # CustomNumber: 10\n",
        "print(num3)  # CustomNumber: 30\n"
      ],
      "metadata": {
        "id": "xV78wTiH5CLg"
      },
      "execution_count": null,
      "outputs": []
    },
    {
      "cell_type": "markdown",
      "source": [
        "12. Create a decorator that measures and prints the execution time of a function."
      ],
      "metadata": {
        "id": "1GO24PhB5Hck"
      }
    },
    {
      "cell_type": "code",
      "source": [
        "import time\n",
        "\n",
        "def execution_time(func):\n",
        "    def wrapper(*args, **kwargs):\n",
        "        start = time.time()\n",
        "        result = func(*args, **kwargs)\n",
        "        end = time.time()\n",
        "        print(f\"Execution time: {end - start:.4f} seconds\")\n",
        "        return result\n",
        "    return wrapper\n",
        "\n",
        "@execution_time\n",
        "def example_function():\n",
        "    time.sleep(2)  # Simulating a delay\n",
        "\n",
        "example_function()\n"
      ],
      "metadata": {
        "id": "wmXA8ac15Pq1"
      },
      "execution_count": null,
      "outputs": []
    },
    {
      "cell_type": "markdown",
      "source": [
        "13. Explain the concept of the Diamond Problem in multiple inheritance. How does Python resolve it?"
      ],
      "metadata": {
        "id": "kTSS2Zi55TPH"
      }
    },
    {
      "cell_type": "markdown",
      "source": [
        "The Diamond Problem occurs in multiple inheritance when a class inherits from two classes that have a common ancestor. This can lead to ambiguity about which ancestor's method to use.\n",
        "\n",
        "Python resolves it using the Method Resolution Order (MRO). MRO follows the C3 Linearization algorithm."
      ],
      "metadata": {
        "id": "Wf5CzZWl5aJ3"
      }
    },
    {
      "cell_type": "code",
      "source": [
        "class A:\n",
        "    def method(self):\n",
        "        print(\"Method from A\")\n",
        "\n",
        "class B(A): pass\n",
        "class C(A): pass\n",
        "class D(B, C): pass\n",
        "\n",
        "d = D()\n",
        "d.method()  # Resolved using MRO: A's method\n",
        "print(D.mro())  # Shows the MRO\n"
      ],
      "metadata": {
        "id": "KKqamwtF5iIW"
      },
      "execution_count": null,
      "outputs": []
    },
    {
      "cell_type": "markdown",
      "source": [
        "14. Write a class method that keeps track of the number of instances created from a class."
      ],
      "metadata": {
        "id": "TsCJLMVy5mBu"
      }
    },
    {
      "cell_type": "code",
      "source": [
        "class InstanceCounter:\n",
        "    instance_count = 0\n",
        "\n",
        "    def __init__(self):\n",
        "        InstanceCounter.instance_count += 1\n",
        "\n",
        "    @classmethod\n",
        "    def get_instance_count(cls):\n",
        "        return cls.instance_count\n",
        "\n",
        "# Example usage:\n",
        "a = InstanceCounter()\n",
        "b = InstanceCounter()\n",
        "print(InstanceCounter.get_instance_count())  # Output: 2\n"
      ],
      "metadata": {
        "id": "HlGsN9tL5qft"
      },
      "execution_count": null,
      "outputs": []
    },
    {
      "cell_type": "markdown",
      "source": [
        "15. Implement a static method in a class that checks if a given year is a leap year."
      ],
      "metadata": {
        "id": "olggBQlN5vIr"
      }
    },
    {
      "cell_type": "code",
      "source": [
        "class YearChecker:\n",
        "    @staticmethod\n",
        "    def is_leap_year(year):\n",
        "        if (year % 4 == 0 and year % 100 != 0) or (year % 400 == 0):\n",
        "            return True\n",
        "        return False\n",
        "\n",
        "# Example usage:\n",
        "print(YearChecker.is_leap_year(2024))  # True\n",
        "print(YearChecker.is_leap_year(2023))  # False\n"
      ],
      "metadata": {
        "id": "ggfJBkoT51eD"
      },
      "execution_count": null,
      "outputs": []
    }
  ]
}